{
 "cells": [
  {
   "cell_type": "code",
   "execution_count": 1,
   "id": "turned-lithuania",
   "metadata": {},
   "outputs": [],
   "source": [
    "import findspark\n",
    "findspark.init()\n",
    "import pyspark"
   ]
  },
  {
   "cell_type": "code",
   "execution_count": 2,
   "id": "ancient-course",
   "metadata": {},
   "outputs": [],
   "source": [
    "from pyspark.sql import SparkSession, SQLContext\n",
    "from pyspark.sql import functions as F\n",
    "from pyspark import SparkContext, SparkConf"
   ]
  },
  {
   "cell_type": "code",
   "execution_count": 3,
   "id": "above-austin",
   "metadata": {},
   "outputs": [],
   "source": [
    "sc = pyspark.SparkContext()"
   ]
  },
  {
   "cell_type": "code",
   "execution_count": 4,
   "id": "absolute-reliance",
   "metadata": {},
   "outputs": [],
   "source": [
    "sqlContext = SQLContext(sc)"
   ]
  },
  {
   "cell_type": "code",
   "execution_count": 5,
   "id": "varied-treasure",
   "metadata": {},
   "outputs": [
    {
     "data": {
      "text/plain": [
       "DataFrame[key: string, value: string]"
      ]
     },
     "execution_count": 5,
     "metadata": {},
     "output_type": "execute_result"
    }
   ],
   "source": [
    "sqlContext.sql(\"SET spark.sql.autoBroadcastJoinThreshold = -1\")"
   ]
  },
  {
   "cell_type": "code",
   "execution_count": 1,
   "id": "naval-companion",
   "metadata": {},
   "outputs": [],
   "source": [
    "# Отключаем дефолтное поведение, а именно broadcast join\n",
    "# spark.sql.autoBroadcastJoinThreshold = -1"
   ]
  },
  {
   "cell_type": "code",
   "execution_count": 4,
   "id": "broken-radio",
   "metadata": {},
   "outputs": [
    {
     "data": {
      "text/html": [
       "\n",
       "        <div>\n",
       "            <p><b>SparkContext</b></p>\n",
       "\n",
       "            <p><a href=\"http://10.129.0.16:4040\">Spark UI</a></p>\n",
       "\n",
       "            <dl>\n",
       "              <dt>Version</dt>\n",
       "                <dd><code>v3.0.1</code></dd>\n",
       "              <dt>Master</dt>\n",
       "                <dd><code>local[*]</code></dd>\n",
       "              <dt>AppName</dt>\n",
       "                <dd><code>pyspark-shell</code></dd>\n",
       "            </dl>\n",
       "        </div>\n",
       "        "
      ],
      "text/plain": [
       "<SparkContext master=local[*] appName=pyspark-shell>"
      ]
     },
     "execution_count": 4,
     "metadata": {},
     "output_type": "execute_result"
    }
   ],
   "source": [
    "sc"
   ]
  },
  {
   "cell_type": "code",
   "execution_count": 5,
   "id": "collective-membership",
   "metadata": {},
   "outputs": [],
   "source": [
    "spark = SparkSession(sc)"
   ]
  },
  {
   "cell_type": "code",
   "execution_count": null,
   "id": "public-system",
   "metadata": {},
   "outputs": [],
   "source": [
    "spark.sql('''SELECT * table''')"
   ]
  },
  {
   "cell_type": "markdown",
   "id": "peaceful-alexandria",
   "metadata": {},
   "source": [
    "## Устройство Spark Dataframe API\n",
    "\n",
    "**Dataframe:**\n",
    "+ структурированная колоночная структура данных\n",
    "+ может быть создана на основе:\n",
    "  - локальной коллекции\n",
    "  - файла (файлов)\n",
    "  - базы данных\n",
    "+ в python работает значительно быстрее, чем RDD\n",
    "+ под капотом использует RDD\n",
    "+ позволяет выполнять произвольные SQL операции с данными\n",
    "+ аналогично RDD являются ленивыми и неизменяеыми\n",
    "\n",
    "## Из чего состоит Dataframe\n",
    "+ схема [pyspsark.sql.StructType](https://spark.apache.org/docs/latest/api/python/pyspark.sql.html#pyspark.sql.types.StructType)\n",
    "+ колонки [pyspark.sql.Column](https://spark.apache.org/docs/latest/api/python/pyspark.sql.html#pyspark.sql.Column)\n",
    "+ данные [pyspark.sql.Row](https://spark.apache.org/docs/latest/api/python/pyspark.sql.html#pyspark.sql.Row)"
   ]
  },
  {
   "cell_type": "markdown",
   "id": "rolled-penny",
   "metadata": {},
   "source": [
    "## Spark SQL and DataFrames\n",
    "\n",
    "source: https://spark.apache.org/docs/latest/sql-programming-guide.html\n",
    "\n",
    "**Additional Reading:** [A Tale of Three Apache Spark APIs: RDDs, DataFrames, and Datasets](https://databricks.com/blog/2016/07/14/a-tale-of-three-apache-spark-apis-rdds-dataframes-and-datasets.html)"
   ]
  },
  {
   "cell_type": "markdown",
   "id": "wooden-announcement",
   "metadata": {},
   "source": [
    "## Чтение данных из источника\n",
    "Основной метод чтения любых источников\n",
    "\n",
    "```df = spark.read.format(datasource_type).option(datasource_options).load(object_name)```\n",
    "\n",
    "+ ```datasource_type``` - тип источника (\"parquet\", \"json\", \"cassandra\") и т. д.\n",
    "+ ```datasource_options``` - опции для работы с источником (логины, пароли, адреса для подключения и т. д.)\n",
    "+ ```object_name``` - имя таблицы/файла/топика/индекса\n",
    "\n",
    "[DataframeReader](https://spark.apache.org/docs/latest/api/python/pyspark.sql.html#pyspark.sql.DataFrameReader):\n",
    "+ по умолчанию выводит схему данных\n",
    "+ является трансформацией (ленивый)\n",
    "+ возвращает [Dataframe](https://spark.apache.org/docs/latest/api/python/pyspark.sql.html#pyspark.sql.DataFrame)\n",
    "\n",
    "### Список (неполный) поддерживаемых источников данных\n",
    "+ Файлы:\n",
    "  - json\n",
    "  - text\n",
    "  - csv\n",
    "  - orc\n",
    "  - parquet\n",
    "+ Базы данных\n",
    "  - elasticsearch\n",
    "  - cassandra\n",
    "  - jdbc\n",
    "  - hive\n",
    "+ Брокеры сообщений\n",
    "  - kafka\n",
    "  "
   ]
  },
  {
   "cell_type": "markdown",
   "id": "incoming-affairs",
   "metadata": {},
   "source": [
    "# Read tabular data"
   ]
  },
  {
   "cell_type": "code",
   "execution_count": 6,
   "id": "balanced-joyce",
   "metadata": {},
   "outputs": [],
   "source": [
    "mtcars = spark.read.csv('./learning-apache-spark-master/data/mtcars.csv', header=True, inferSchema=True)"
   ]
  },
  {
   "cell_type": "code",
   "execution_count": 12,
   "id": "another-italian",
   "metadata": {},
   "outputs": [],
   "source": [
    "mtcars = spark.read.format('csv').load('./learning-apache-spark-master/data/mtcars.csv', header = True, inferSchema=True)"
   ]
  },
  {
   "cell_type": "code",
   "execution_count": 13,
   "id": "scenic-focus",
   "metadata": {},
   "outputs": [
    {
     "name": "stdout",
     "output_type": "stream",
     "text": [
      "+-------------+----+---+-----+---+----+-----+-----+---+---+----+----+\n",
      "|          _c0| mpg|cyl| disp| hp|drat|   wt| qsec| vs| am|gear|carb|\n",
      "+-------------+----+---+-----+---+----+-----+-----+---+---+----+----+\n",
      "|    Mazda RX4|21.0|  6|160.0|110| 3.9| 2.62|16.46|  0|  1|   4|   4|\n",
      "|Mazda RX4 Wag|21.0|  6|160.0|110| 3.9|2.875|17.02|  0|  1|   4|   4|\n",
      "|   Datsun 710|22.8|  4|108.0| 93|3.85| 2.32|18.61|  1|  1|   4|   1|\n",
      "+-------------+----+---+-----+---+----+-----+-----+---+---+----+----+\n",
      "only showing top 3 rows\n",
      "\n"
     ]
    }
   ],
   "source": [
    "mtcars.show(3)"
   ]
  },
  {
   "cell_type": "code",
   "execution_count": 7,
   "id": "turkish-strengthening",
   "metadata": {},
   "outputs": [
    {
     "name": "stdout",
     "output_type": "stream",
     "text": [
      "+-------------+----+---+-----+---+----+-----+-----+---+---+----+----+\n",
      "|          _c0| mpg|cyl| disp| hp|drat|   wt| qsec| vs| am|gear|carb|\n",
      "+-------------+----+---+-----+---+----+-----+-----+---+---+----+----+\n",
      "|    Mazda RX4|21.0|  6|160.0|110| 3.9| 2.62|16.46|  0|  1|   4|   4|\n",
      "|Mazda RX4 Wag|21.0|  6|160.0|110| 3.9|2.875|17.02|  0|  1|   4|   4|\n",
      "|   Datsun 710|22.8|  4|108.0| 93|3.85| 2.32|18.61|  1|  1|   4|   1|\n",
      "+-------------+----+---+-----+---+----+-----+-----+---+---+----+----+\n",
      "only showing top 3 rows\n",
      "\n"
     ]
    }
   ],
   "source": [
    "mtcars.show(3)"
   ]
  },
  {
   "cell_type": "markdown",
   "id": "headed-wallpaper",
   "metadata": {},
   "source": [
    "## Rename individual column\n"
   ]
  },
  {
   "cell_type": "code",
   "execution_count": 14,
   "id": "gentle-confidentiality",
   "metadata": {},
   "outputs": [
    {
     "name": "stdout",
     "output_type": "stream",
     "text": [
      "+-------------+----+---+-----+---+----+-----+-----+---+---+----+----+\n",
      "|    rown_ames| mpg|cyl| disp| hp|drat|   wt| qsec| vs| am|gear|carb|\n",
      "+-------------+----+---+-----+---+----+-----+-----+---+---+----+----+\n",
      "|    Mazda RX4|21.0|  6|160.0|110| 3.9| 2.62|16.46|  0|  1|   4|   4|\n",
      "|Mazda RX4 Wag|21.0|  6|160.0|110| 3.9|2.875|17.02|  0|  1|   4|   4|\n",
      "|   Datsun 710|22.8|  4|108.0| 93|3.85| 2.32|18.61|  1|  1|   4|   1|\n",
      "+-------------+----+---+-----+---+----+-----+-----+---+---+----+----+\n",
      "only showing top 3 rows\n",
      "\n"
     ]
    }
   ],
   "source": [
    "mtcars = mtcars.withColumnRenamed('_c0', 'rown_ames')\n",
    "mtcars.show(3)"
   ]
  },
  {
   "cell_type": "markdown",
   "id": "blank-africa",
   "metadata": {},
   "source": [
    "## Rename multple columns"
   ]
  },
  {
   "cell_type": "code",
   "execution_count": 15,
   "id": "lined-cricket",
   "metadata": {},
   "outputs": [
    {
     "data": {
      "text/plain": [
       "['x_rown_ames',\n",
       " 'x_mpg',\n",
       " 'x_cyl',\n",
       " 'x_disp',\n",
       " 'x_hp',\n",
       " 'x_drat',\n",
       " 'x_wt',\n",
       " 'x_qsec',\n",
       " 'x_vs',\n",
       " 'x_am',\n",
       " 'x_gear',\n",
       " 'x_carb']"
      ]
     },
     "execution_count": 15,
     "metadata": {},
     "output_type": "execute_result"
    }
   ],
   "source": [
    "new_col_names = [ 'x_' + x for x in mtcars.columns]\n",
    "new_col_names"
   ]
  },
  {
   "cell_type": "code",
   "execution_count": 19,
   "id": "eastern-gasoline",
   "metadata": {},
   "outputs": [],
   "source": [
    "mtcars = mtcars.toDF(*new_col_names)"
   ]
  },
  {
   "cell_type": "markdown",
   "id": "robust-drink",
   "metadata": {},
   "source": [
    "## Read non-tabular data"
   ]
  },
  {
   "cell_type": "code",
   "execution_count": 20,
   "id": "muslim-postcard",
   "metadata": {},
   "outputs": [
    {
     "data": {
      "text/plain": [
       "['Fresh install of XP on new computer. Sweet relief! fuck vista\\t1018769417\\t1.0',\n",
       " 'Well. Now I know where to go when I want my knives. #ChiChevySXSW http://post.ly/RvDl\\t10284216536\\t1.0',\n",
       " '\"Literally six weeks before I can take off \"\"SSC Chair\"\" off my email. Its like the torturous 4th mile before everything stops hurting.\"\\t10298589026\\t1.0',\n",
       " 'Mitsubishi i MiEV - Wikipedia, the free encyclopedia - http://goo.gl/xipe Cutest car ever!\\t109017669432377344\\t1.0',\n",
       " \"'Cheap Eats in SLP' - http://t.co/4w8gRp7\\t109642968603963392\\t1.0\"]"
      ]
     },
     "execution_count": 20,
     "metadata": {},
     "output_type": "execute_result"
    }
   ],
   "source": [
    "twitter = sc.textFile('./learning-apache-spark-master/data/twitter.txt')\n",
    "twitter.take(5)"
   ]
  },
  {
   "cell_type": "markdown",
   "id": "promotional-green",
   "metadata": {},
   "source": [
    "## Запись данных\n",
    "Основной метод записи в любые системы\n",
    "\n",
    "```df.write.format(datasource_type).options(datasource_options).mode(savemode).save(object_name)```\n",
    "\n",
    "+ ```datasource_type``` - тип источника (\"parquet\", \"json\", \"cassandra\") и т. д.\n",
    "+ ```datasource_options``` - опции для работы с источником (логины, пароли, адреса для подключения и т. д.)\n",
    "+ ```savemode``` - режим записи данных (добавление, перезапись и т. д.)\n",
    "+ ```object_name``` - имя таблицы/файла/топика/индекса\n",
    "\n",
    "[DataFrameWriter](https://spark.apache.org/docs/latest/api/python/pyspark.sql.html#pyspark.sql.DataFrameWriter):\n",
    "+ метод ```save``` является действием\n",
    "+ позволяет работать с партиционированными данными (parquet, orc)\n",
    "+ не всегда валидирует схему и формат данных\n",
    "\n",
    "\n",
    "### Список (неполный) поддерживаемых источников данных\n",
    "+ Файлы:\n",
    "  - json\n",
    "  - text\n",
    "  - csv\n",
    "  - orc\n",
    "  - parquet\n",
    "+ Базы данных\n",
    "  - elasticsearch\n",
    "  - cassandra\n",
    "  - jdbc\n",
    "  - hive\n",
    "+ Брокеры сообщений\n",
    "  - kafka"
   ]
  },
  {
   "cell_type": "code",
   "execution_count": 21,
   "id": "incoming-chemistry",
   "metadata": {},
   "outputs": [],
   "source": [
    "ratings_df = spark.read.csv(\"./movielens/rating.csv\", header=True)\n",
    "tag_df = spark.read.csv(\"./movielens/tag.csv\", header=True)\n",
    "movie_df = spark.read.csv(\"./movielens/movie.csv\", header=True)\n",
    "link_df = spark.read.csv(\"./movielens/link.csv\", header=True)\n",
    "genome_tags_df = spark.read.csv(\"./movielens/genome_tags.csv\", header=True)\n",
    "genome_scores_df = spark.read.csv(\"./movielens/genome_scores.csv\", header=True)"
   ]
  },
  {
   "cell_type": "code",
   "execution_count": 42,
   "id": "ultimate-vector",
   "metadata": {},
   "outputs": [],
   "source": [
    "ratings_df.coalesce(1).write.parquet('./test_ratings_one_partition.parquet')"
   ]
  },
  {
   "cell_type": "code",
   "execution_count": 27,
   "id": "intelligent-papua",
   "metadata": {},
   "outputs": [
    {
     "name": "stdout",
     "output_type": "stream",
     "text": [
      "part-00000-5d0bd2aa-acbe-47dd-9d60-c908c208f6a5-c000.snappy.parquet\r\n",
      "part-00001-5d0bd2aa-acbe-47dd-9d60-c908c208f6a5-c000.snappy.parquet\r\n",
      "part-00002-5d0bd2aa-acbe-47dd-9d60-c908c208f6a5-c000.snappy.parquet\r\n",
      "part-00003-5d0bd2aa-acbe-47dd-9d60-c908c208f6a5-c000.snappy.parquet\r\n",
      "part-00004-5d0bd2aa-acbe-47dd-9d60-c908c208f6a5-c000.snappy.parquet\r\n",
      "part-00005-5d0bd2aa-acbe-47dd-9d60-c908c208f6a5-c000.snappy.parquet\r\n",
      "_SUCCESS\r\n"
     ]
    }
   ],
   "source": [
    "!ls ./test_ratings.parquet"
   ]
  },
  {
   "cell_type": "code",
   "execution_count": 38,
   "id": "fabulous-joining",
   "metadata": {},
   "outputs": [],
   "source": [
    "pd_movie = movie_df.toPandas()"
   ]
  },
  {
   "cell_type": "code",
   "execution_count": 36,
   "id": "electronic-somalia",
   "metadata": {},
   "outputs": [
    {
     "name": "stdout",
     "output_type": "stream",
     "text": [
      "Collecting pyarrow\n",
      "  Downloading pyarrow-3.0.0-cp38-cp38-manylinux2014_x86_64.whl (20.7 MB)\n",
      "\u001b[K     |████████████████████████████████| 20.7 MB 2.2 MB/s eta 0:00:01\n",
      "\u001b[?25hRequirement already satisfied, skipping upgrade: numpy>=1.16.6 in ./.local/lib/python3.8/site-packages (from pyarrow) (1.20.1)\n",
      "Installing collected packages: pyarrow\n",
      "Successfully installed pyarrow-3.0.0\n"
     ]
    }
   ],
   "source": [
    "# !pip3 install -U pyarrow"
   ]
  },
  {
   "cell_type": "code",
   "execution_count": 44,
   "id": "european-concern",
   "metadata": {},
   "outputs": [
    {
     "name": "stdout",
     "output_type": "stream",
     "text": [
      "174M\t./test_ratings_one_partition.parquet/part-00000-df38dc6d-2cde-40eb-85ca-39e9cf14bba4-c000.snappy.parquet\r\n",
      "0\t./test_ratings_one_partition.parquet/_SUCCESS\r\n"
     ]
    }
   ],
   "source": [
    "!du -h  ./test_ratings_one_partition.parquet/*"
   ]
  },
  {
   "cell_type": "code",
   "execution_count": 29,
   "id": "motivated-gossip",
   "metadata": {},
   "outputs": [
    {
     "name": "stdout",
     "output_type": "stream",
     "text": [
      "35M\t./test_ratings.parquet/part-00000-5d0bd2aa-acbe-47dd-9d60-c908c208f6a5-c000.snappy.parquet\r\n",
      "34M\t./test_ratings.parquet/part-00001-5d0bd2aa-acbe-47dd-9d60-c908c208f6a5-c000.snappy.parquet\r\n",
      "35M\t./test_ratings.parquet/part-00002-5d0bd2aa-acbe-47dd-9d60-c908c208f6a5-c000.snappy.parquet\r\n",
      "34M\t./test_ratings.parquet/part-00003-5d0bd2aa-acbe-47dd-9d60-c908c208f6a5-c000.snappy.parquet\r\n",
      "34M\t./test_ratings.parquet/part-00004-5d0bd2aa-acbe-47dd-9d60-c908c208f6a5-c000.snappy.parquet\r\n",
      "4.8M\t./test_ratings.parquet/part-00005-5d0bd2aa-acbe-47dd-9d60-c908c208f6a5-c000.snappy.parquet\r\n",
      "0\t./test_ratings.parquet/_SUCCESS\r\n"
     ]
    }
   ],
   "source": [
    "!du -h  ./test_ratings.parquet/*"
   ]
  },
  {
   "cell_type": "code",
   "execution_count": 48,
   "id": "stylish-supply",
   "metadata": {},
   "outputs": [
    {
     "name": "stdout",
     "output_type": "stream",
     "text": [
      "+-----------+-----------+\n",
      "|min(rating)|max(rating)|\n",
      "+-----------+-----------+\n",
      "|        0.5|          5|\n",
      "+-----------+-----------+\n",
      "\n"
     ]
    }
   ],
   "source": [
    "import pyspark.sql.functions as F\n",
    "\n",
    "ratings_df.groupby().agg(F.min('rating'), F.max('rating')).show()"
   ]
  },
  {
   "cell_type": "code",
   "execution_count": 50,
   "id": "ancient-filter",
   "metadata": {},
   "outputs": [],
   "source": [
    "ratings_df.repartition('rating').write.partitionBy('rating').parquet('./tets_rating.parquet')"
   ]
  },
  {
   "cell_type": "code",
   "execution_count": 55,
   "id": "satellite-fitness",
   "metadata": {},
   "outputs": [],
   "source": [
    "ratings_df.repartition('rating').write.mode('overwrite').parquet('./tets_rating.parquet')"
   ]
  },
  {
   "cell_type": "code",
   "execution_count": 57,
   "id": "vulnerable-edinburgh",
   "metadata": {},
   "outputs": [],
   "source": [
    "ratings_df.write.mode('overwrite').partitionBy('rating').parquet('./tets_rating.parquet')"
   ]
  },
  {
   "cell_type": "code",
   "execution_count": 59,
   "id": "temporal-validity",
   "metadata": {},
   "outputs": [
    {
     "name": "stdout",
     "output_type": "stream",
     "text": [
      "3.0M\t./tets_rating.parquet/rating=0.5\r\n",
      "8.1M\t./tets_rating.parquet/rating=1\r\n",
      "3.6M\t./tets_rating.parquet/rating=1.5\r\n",
      "16M\t./tets_rating.parquet/rating=2\r\n",
      "9.9M\t./tets_rating.parquet/rating=2.5\r\n",
      "42M\t./tets_rating.parquet/rating=3\r\n",
      "23M\t./tets_rating.parquet/rating=3.5\r\n",
      "53M\t./tets_rating.parquet/rating=4\r\n",
      "16M\t./tets_rating.parquet/rating=4.5\r\n",
      "29M\t./tets_rating.parquet/rating=5\r\n",
      "0\t./tets_rating.parquet/_SUCCESS\r\n"
     ]
    }
   ],
   "source": [
    "!du -h  ./tets_rating.parquet/*"
   ]
  },
  {
   "cell_type": "code",
   "execution_count": 62,
   "id": "interim-equity",
   "metadata": {},
   "outputs": [
    {
     "name": "stdout",
     "output_type": "stream",
     "text": [
      "35M\t./tets_rating.parquet/part-00000-246a6945-bae7-48e0-a5a4-7f7a9927c824-c000.snappy.parquet\r\n",
      "68M\t./tets_rating.parquet/part-00001-246a6945-bae7-48e0-a5a4-7f7a9927c824-c000.snappy.parquet\r\n",
      "34M\t./tets_rating.parquet/part-00002-246a6945-bae7-48e0-a5a4-7f7a9927c824-c000.snappy.parquet\r\n",
      "38M\t./tets_rating.parquet/part-00003-246a6945-bae7-48e0-a5a4-7f7a9927c824-c000.snappy.parquet\r\n",
      "0\t./tets_rating.parquet/_SUCCESS\r\n"
     ]
    }
   ],
   "source": [
    "!du -h  ./tets_rating.parquet/*"
   ]
  },
  {
   "cell_type": "code",
   "execution_count": 61,
   "id": "comparative-leeds",
   "metadata": {},
   "outputs": [],
   "source": [
    "ratings_df.coalesce(4).write.mode('overwrite').parquet('./tets_rating.parquet')"
   ]
  },
  {
   "cell_type": "code",
   "execution_count": 69,
   "id": "mobile-grain",
   "metadata": {},
   "outputs": [
    {
     "name": "stdout",
     "output_type": "stream",
     "text": [
      "+------+-------+-----------+-------------------+\n",
      "|userId|movieId|        tag|          timestamp|\n",
      "+------+-------+-----------+-------------------+\n",
      "|    18|   4141|Mark Waters|2009-04-24 18:19:40|\n",
      "+------+-------+-----------+-------------------+\n",
      "\n"
     ]
    }
   ],
   "source": [
    "tag_df.limit(1).show()# Зарегистрировать DataFrame, как таблицу SQL\n",
    "ratings_df.createOrReplaceTempView(\"ratings_df\")\n",
    "movie_df.createOrReplaceTempView(\"movie_df\")"
   ]
  },
  {
   "cell_type": "code",
   "execution_count": 65,
   "id": "standard-andrew",
   "metadata": {},
   "outputs": [
    {
     "name": "stdout",
     "output_type": "stream",
     "text": [
      "+------+-------+------+-------------------+\n",
      "|userId|movieId|rating|          timestamp|\n",
      "+------+-------+------+-------------------+\n",
      "|     1|      2|   3.5|2005-04-02 23:53:47|\n",
      "|     1|     29|   3.5|2005-04-02 23:31:16|\n",
      "|     1|     32|   3.5|2005-04-02 23:33:39|\n",
      "|     1|     47|   3.5|2005-04-02 23:32:07|\n",
      "|     1|     50|   3.5|2005-04-02 23:29:40|\n",
      "|     1|    112|   3.5|2004-09-10 03:09:00|\n",
      "|     1|    151|     4|2004-09-10 03:08:54|\n",
      "|     1|    223|     4|2005-04-02 23:46:13|\n",
      "|     1|    253|     4|2005-04-02 23:35:40|\n",
      "|     1|    260|     4|2005-04-02 23:33:46|\n",
      "+------+-------+------+-------------------+\n",
      "\n"
     ]
    }
   ],
   "source": [
    "spark.sql('''SELECT * from ratings_df limit 10''').show()"
   ]
  },
  {
   "cell_type": "code",
   "execution_count": 70,
   "id": "remarkable-subscriber",
   "metadata": {},
   "outputs": [
    {
     "name": "stdout",
     "output_type": "stream",
     "text": [
      "+-------+--------------------+--------------------+\n",
      "|movieId|               title|              genres|\n",
      "+-------+--------------------+--------------------+\n",
      "|      1|    Toy Story (1995)|Adventure|Animati...|\n",
      "|      2|      Jumanji (1995)|Adventure|Childre...|\n",
      "|      3|Grumpier Old Men ...|      Comedy|Romance|\n",
      "|      4|Waiting to Exhale...|Comedy|Drama|Romance|\n",
      "|      5|Father of the Bri...|              Comedy|\n",
      "|      6|         Heat (1995)|Action|Crime|Thri...|\n",
      "|      7|      Sabrina (1995)|      Comedy|Romance|\n",
      "|      8| Tom and Huck (1995)|  Adventure|Children|\n",
      "|      9| Sudden Death (1995)|              Action|\n",
      "|     10|    GoldenEye (1995)|Action|Adventure|...|\n",
      "+-------+--------------------+--------------------+\n",
      "\n"
     ]
    }
   ],
   "source": [
    "spark.sql('''SELECT * from movie_df limit 10''').show()"
   ]
  },
  {
   "cell_type": "code",
   "execution_count": 71,
   "id": "involved-stand",
   "metadata": {},
   "outputs": [
    {
     "data": {
      "text/plain": [
       "27278"
      ]
     },
     "execution_count": 71,
     "metadata": {},
     "output_type": "execute_result"
    }
   ],
   "source": [
    "movie_df.count()"
   ]
  },
  {
   "cell_type": "code",
   "execution_count": 74,
   "id": "viral-convertible",
   "metadata": {},
   "outputs": [],
   "source": [
    "import pyspark.sql.functions as F"
   ]
  },
  {
   "cell_type": "code",
   "execution_count": 84,
   "id": "exposed-village",
   "metadata": {},
   "outputs": [],
   "source": [
    "tmp = ratings_df.join(movie_df, on=['movieId'], how='left')"
   ]
  },
  {
   "cell_type": "code",
   "execution_count": 85,
   "id": "seven-china",
   "metadata": {},
   "outputs": [
    {
     "data": {
      "text/plain": [
       "20000263"
      ]
     },
     "execution_count": 85,
     "metadata": {},
     "output_type": "execute_result"
    }
   ],
   "source": [
    "tmp.count()"
   ]
  },
  {
   "cell_type": "code",
   "execution_count": 56,
   "id": "brown-outside",
   "metadata": {},
   "outputs": [
    {
     "name": "stdout",
     "output_type": "stream",
     "text": [
      "4.0K\t./tets_rating.parquet/part-00000-539f8400-497b-4de6-88f2-eac30c6767fa-c000.snappy.parquet\r\n",
      "40M\t./tets_rating.parquet/part-00018-539f8400-497b-4de6-88f2-eac30c6767fa-c000.snappy.parquet\r\n",
      "16M\t./tets_rating.parquet/part-00031-539f8400-497b-4de6-88f2-eac30c6767fa-c000.snappy.parquet\r\n",
      "9.3M\t./tets_rating.parquet/part-00043-539f8400-497b-4de6-88f2-eac30c6767fa-c000.snappy.parquet\r\n",
      "27M\t./tets_rating.parquet/part-00049-539f8400-497b-4de6-88f2-eac30c6767fa-c000.snappy.parquet\r\n",
      "22M\t./tets_rating.parquet/part-00065-539f8400-497b-4de6-88f2-eac30c6767fa-c000.snappy.parquet\r\n",
      "2.7M\t./tets_rating.parquet/part-00086-539f8400-497b-4de6-88f2-eac30c6767fa-c000.snappy.parquet\r\n",
      "3.3M\t./tets_rating.parquet/part-00133-539f8400-497b-4de6-88f2-eac30c6767fa-c000.snappy.parquet\r\n",
      "7.5M\t./tets_rating.parquet/part-00144-539f8400-497b-4de6-88f2-eac30c6767fa-c000.snappy.parquet\r\n",
      "51M\t./tets_rating.parquet/part-00166-539f8400-497b-4de6-88f2-eac30c6767fa-c000.snappy.parquet\r\n",
      "15M\t./tets_rating.parquet/part-00189-539f8400-497b-4de6-88f2-eac30c6767fa-c000.snappy.parquet\r\n",
      "0\t./tets_rating.parquet/_SUCCESS\r\n"
     ]
    }
   ],
   "source": [
    "!du -h  ./tets_rating.parquet/*"
   ]
  },
  {
   "cell_type": "code",
   "execution_count": 51,
   "id": "acting-description",
   "metadata": {},
   "outputs": [
    {
     "name": "stdout",
     "output_type": "stream",
     "text": [
      "2.8M\t./tets_rating.parquet/rating=0.5\r\n",
      "7.6M\t./tets_rating.parquet/rating=1\r\n",
      "3.3M\t./tets_rating.parquet/rating=1.5\r\n",
      "16M\t./tets_rating.parquet/rating=2\r\n",
      "9.4M\t./tets_rating.parquet/rating=2.5\r\n",
      "42M\t./tets_rating.parquet/rating=3\r\n",
      "23M\t./tets_rating.parquet/rating=3.5\r\n",
      "54M\t./tets_rating.parquet/rating=4\r\n",
      "16M\t./tets_rating.parquet/rating=4.5\r\n",
      "29M\t./tets_rating.parquet/rating=5\r\n",
      "0\t./tets_rating.parquet/_SUCCESS\r\n"
     ]
    }
   ],
   "source": [
    "!du -h  ./tets_rating.parquet/*"
   ]
  },
  {
   "cell_type": "code",
   "execution_count": 53,
   "id": "interested-democracy",
   "metadata": {},
   "outputs": [
    {
     "name": "stdout",
     "output_type": "stream",
     "text": [
      "+------+-------+-------------------+\n",
      "|userId|movieId|          timestamp|\n",
      "+------+-------+-------------------+\n",
      "|     1|    151|2004-09-10 03:08:54|\n",
      "| 69632|   4226|2009-04-02 23:27:08|\n",
      "|     1|    223|2005-04-02 23:46:13|\n",
      "| 69632|   5991|2008-09-21 18:46:36|\n",
      "|     1|    253|2005-04-02 23:35:40|\n",
      "| 69632|   6870|2009-04-02 23:36:46|\n",
      "|     1|    260|2005-04-02 23:33:46|\n",
      "| 69632|   7153|2008-09-21 18:33:57|\n",
      "|     1|    293|2005-04-02 23:31:43|\n",
      "| 69632|   8340|2009-04-02 23:36:01|\n",
      "+------+-------+-------------------+\n",
      "only showing top 10 rows\n",
      "\n"
     ]
    }
   ],
   "source": [
    "spark.read.parquet('./tets_rating.parquet/rating=4').show(10)"
   ]
  },
  {
   "cell_type": "code",
   "execution_count": null,
   "id": "mounted-concern",
   "metadata": {},
   "outputs": [],
   "source": [
    "ratings_df.coalesce(1).write.parquet('./test_ratings_one_partition.parquet')"
   ]
  },
  {
   "cell_type": "code",
   "execution_count": 22,
   "id": "alien-attachment",
   "metadata": {},
   "outputs": [
    {
     "data": {
      "text/plain": [
       "20000263"
      ]
     },
     "execution_count": 22,
     "metadata": {},
     "output_type": "execute_result"
    }
   ],
   "source": [
    "ratings_df.count()"
   ]
  },
  {
   "cell_type": "code",
   "execution_count": 23,
   "id": "biblical-trial",
   "metadata": {},
   "outputs": [
    {
     "name": "stdout",
     "output_type": "stream",
     "text": [
      "+------+-------+------+-------------------+\n",
      "|userId|movieId|rating|          timestamp|\n",
      "+------+-------+------+-------------------+\n",
      "|     1|      2|   3.5|2005-04-02 23:53:47|\n",
      "+------+-------+------+-------------------+\n",
      "only showing top 1 row\n",
      "\n"
     ]
    }
   ],
   "source": [
    "ratings_df.show(1)"
   ]
  },
  {
   "cell_type": "code",
   "execution_count": 25,
   "id": "communist-listening",
   "metadata": {},
   "outputs": [
    {
     "data": {
      "text/plain": [
       "27278"
      ]
     },
     "execution_count": 25,
     "metadata": {},
     "output_type": "execute_result"
    }
   ],
   "source": [
    "movie_df.count()"
   ]
  },
  {
   "cell_type": "code",
   "execution_count": 24,
   "id": "removable-evans",
   "metadata": {},
   "outputs": [
    {
     "name": "stdout",
     "output_type": "stream",
     "text": [
      "+-------+----------------+--------------------+\n",
      "|movieId|           title|              genres|\n",
      "+-------+----------------+--------------------+\n",
      "|      1|Toy Story (1995)|Adventure|Animati...|\n",
      "+-------+----------------+--------------------+\n",
      "only showing top 1 row\n",
      "\n"
     ]
    }
   ],
   "source": [
    "movie_df.show(1)"
   ]
  },
  {
   "cell_type": "markdown",
   "id": "attached-oriental",
   "metadata": {},
   "source": [
    "# Export data"
   ]
  },
  {
   "cell_type": "code",
   "execution_count": 13,
   "id": "affiliated-tractor",
   "metadata": {},
   "outputs": [],
   "source": [
    "from pyspark.sql import DataFrameWriter"
   ]
  },
  {
   "cell_type": "code",
   "execution_count": null,
   "id": "incorporate-scheduling",
   "metadata": {},
   "outputs": [],
   "source": [
    "mtcars = mtcars.coalesce(numPartitions=1)"
   ]
  },
  {
   "cell_type": "code",
   "execution_count": null,
   "id": "pointed-brick",
   "metadata": {},
   "outputs": [],
   "source": [
    "mtcars.write.csv('./learning-apache-spark-master/saved-mtcars', header=True)"
   ]
  },
  {
   "cell_type": "code",
   "execution_count": null,
   "id": "liquid-preliminary",
   "metadata": {},
   "outputs": [],
   "source": [
    "twitter = twitter.coalesce(numPartitions=1)"
   ]
  },
  {
   "cell_type": "code",
   "execution_count": null,
   "id": "coral-slide",
   "metadata": {},
   "outputs": [],
   "source": [
    "twitter.saveAsTextFile('./learning-apache-spark-master/saved-twitter')"
   ]
  },
  {
   "cell_type": "code",
   "execution_count": 30,
   "id": "dressed-blend",
   "metadata": {},
   "outputs": [],
   "source": [
    "ratings_df.repartition().write.partitionBy('movieId').parquet('./ratings.parquet')"
   ]
  },
  {
   "cell_type": "code",
   "execution_count": 27,
   "id": "digital-reputation",
   "metadata": {},
   "outputs": [
    {
     "data": {
      "text/plain": [
       "DataFrame[userId: string, movieId: string, rating: string, timestamp: string]"
      ]
     },
     "execution_count": 27,
     "metadata": {},
     "output_type": "execute_result"
    }
   ],
   "source": [
    "ratings_df"
   ]
  },
  {
   "cell_type": "markdown",
   "id": "moral-brick",
   "metadata": {},
   "source": [
    "## pySpark SQL"
   ]
  },
  {
   "cell_type": "code",
   "execution_count": 21,
   "id": "subsequent-certificate",
   "metadata": {},
   "outputs": [],
   "source": [
    "ratings_df = spark.read.csv(\"./movielens/rating.csv\", header=True)\n",
    "tag_df = spark.read.csv(\"./movielens/tag.csv\", header=True)\n",
    "movie_df = spark.read.csv(\"./movielens/movie.csv\", header=True)\n",
    "link_df = spark.read.csv(\"./movielens/link.csv\", header=True)\n",
    "genome_tags_df = spark.read.csv(\"./movielens/genome_tags.csv\", header=True)\n",
    "genome_scores_df = spark.read.csv(\"./movielens/genome_scores.csv\", header=True)"
   ]
  },
  {
   "cell_type": "code",
   "execution_count": null,
   "id": "exciting-celebration",
   "metadata": {},
   "outputs": [],
   "source": [
    "# Сделаем SQL запрос к таблице\n",
    "sql_ratings_df = spark.sql(\"SELECT movieId, count(*) FROM ratings_df Group By movieId\")"
   ]
  },
  {
   "cell_type": "code",
   "execution_count": null,
   "id": "excessive-pioneer",
   "metadata": {},
   "outputs": [],
   "source": [
    "# Сделаем SQL запрос к таблице\n",
    "sql_ratings_df = spark.sql(\"SELECT movieId, count(*) FROM ratings_df Group By movieId\")"
   ]
  },
  {
   "cell_type": "code",
   "execution_count": null,
   "id": "personalized-pound",
   "metadata": {},
   "outputs": [],
   "source": [
    "# Удаляем дубликаты\n",
    "df.distinct().show()"
   ]
  },
  {
   "cell_type": "code",
   "execution_count": 11,
   "id": "detailed-visibility",
   "metadata": {},
   "outputs": [
    {
     "name": "stdout",
     "output_type": "stream",
     "text": [
      "+------+-------+------+-------------------+\n",
      "|userId|movieId|rating|          timestamp|\n",
      "+------+-------+------+-------------------+\n",
      "|     1|      2|   3.5|2005-04-02 23:53:47|\n",
      "+------+-------+------+-------------------+\n",
      "\n"
     ]
    }
   ],
   "source": [
    "ratings_df.limit(1).show()"
   ]
  },
  {
   "cell_type": "code",
   "execution_count": 14,
   "id": "senior-stupid",
   "metadata": {},
   "outputs": [
    {
     "data": {
      "text/plain": [
       "20000263"
      ]
     },
     "execution_count": 14,
     "metadata": {},
     "output_type": "execute_result"
    }
   ],
   "source": [
    "ratings_df.count()"
   ]
  },
  {
   "cell_type": "code",
   "execution_count": 22,
   "id": "empirical-hebrew",
   "metadata": {},
   "outputs": [
    {
     "data": {
      "text/plain": [
       "465564"
      ]
     },
     "execution_count": 22,
     "metadata": {},
     "output_type": "execute_result"
    }
   ],
   "source": [
    "tag_df.count()"
   ]
  },
  {
   "cell_type": "code",
   "execution_count": null,
   "id": "minute-bicycle",
   "metadata": {},
   "outputs": [],
   "source": [
    "ratings_df.join(tag_df, on=['movieId'])"
   ]
  },
  {
   "cell_type": "code",
   "execution_count": 12,
   "id": "mineral-sacrifice",
   "metadata": {},
   "outputs": [
    {
     "name": "stdout",
     "output_type": "stream",
     "text": [
      "+------+-------+-----------+-------------------+\n",
      "|userId|movieId|        tag|          timestamp|\n",
      "+------+-------+-----------+-------------------+\n",
      "|    18|   4141|Mark Waters|2009-04-24 18:19:40|\n",
      "+------+-------+-----------+-------------------+\n",
      "\n"
     ]
    }
   ],
   "source": [
    "tag_df.limit(1).show()"
   ]
  },
  {
   "cell_type": "code",
   "execution_count": 13,
   "id": "brown-briefing",
   "metadata": {},
   "outputs": [
    {
     "name": "stdout",
     "output_type": "stream",
     "text": [
      "+-------+----------------+--------------------+\n",
      "|movieId|           title|              genres|\n",
      "+-------+----------------+--------------------+\n",
      "|      1|Toy Story (1995)|Adventure|Animati...|\n",
      "+-------+----------------+--------------------+\n",
      "\n"
     ]
    }
   ],
   "source": [
    "movie_df.limit(1).show()"
   ]
  },
  {
   "cell_type": "markdown",
   "id": "fitted-jacksonville",
   "metadata": {},
   "source": [
    "**Accumulators**\n",
    "\n",
    "Когда мы обычно передаем в Spark функции, такие как функция map () или условие для filter (), они могут использовать переменные, определенные вне них в программе драйвера, но каждая задача, выполняемая в кластере, получает новую копию каждой переменной, и обновления из этих копий не распространяются обратно на драйвер. Общие переменные, **accumulators** и **broadcast** переменные Spark снимают это ограничение для двух распространенных типов коммуникационных шаблонов: агрегирования результатов и широковещательных рассылок."
   ]
  },
  {
   "cell_type": "code",
   "execution_count": 28,
   "id": "precious-violin",
   "metadata": {},
   "outputs": [
    {
     "name": "stdout",
     "output_type": "stream",
     "text": [
      "Blank lines: 10\n"
     ]
    }
   ],
   "source": [
    "file = sc.textFile('./learning-apache-spark-master/data/twitter.txt')\n",
    "# Create Accumulator[Int] initialized to 0\n",
    "blankLines = sc.accumulator(0)\n",
    "\n",
    "def extractCallSigns(line):\n",
    "    global blankLines \n",
    "    if not (line == \"\"):\n",
    "        blankLines += 1\n",
    "    return line.split(\" \")\n",
    "\n",
    "callSigns = file.flatMap(extractCallSigns)\n",
    "callSigns.saveAsTextFile('./test_accumulator2')\n",
    "print (\"Blank lines: %d\" % blankLines.value)"
   ]
  },
  {
   "cell_type": "code",
   "execution_count": null,
   "id": "vocal-slovakia",
   "metadata": {},
   "outputs": [],
   "source": []
  }
 ],
 "metadata": {
  "kernelspec": {
   "display_name": "Python 3",
   "language": "python",
   "name": "python3"
  },
  "language_info": {
   "codemirror_mode": {
    "name": "ipython",
    "version": 3
   },
   "file_extension": ".py",
   "mimetype": "text/x-python",
   "name": "python",
   "nbconvert_exporter": "python",
   "pygments_lexer": "ipython3",
   "version": "3.8.5"
  }
 },
 "nbformat": 4,
 "nbformat_minor": 5
}
